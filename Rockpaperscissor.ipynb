{
  "nbformat": 4,
  "nbformat_minor": 0,
  "metadata": {
    "colab": {
      "name": "Proyek Akhir Iqbal.ipynb",
      "provenance": [],
      "collapsed_sections": []
    },
    "kernelspec": {
      "display_name": "Python 3",
      "name": "python3"
    },
    "language_info": {
      "name": "python"
    },
    "accelerator": "GPU"
  },
  "cells": [
    {
      "cell_type": "markdown",
      "metadata": {
        "id": "nLIqNy-3g4nl"
      },
      "source": [
        "*   Nama : Iqbal Aliandra Putra\n",
        "*   Email : iqbalaliandra02@mail.ugm.ac.id\n",
        "*   Kota : Bogor\n",
        "*   Proyek Akhir : Klasifikasi Gambar\n"
      ]
    },
    {
      "cell_type": "code",
      "metadata": {
        "id": "7Tiy0rpU8aXv"
      },
      "source": [
        "# Menyiapkan library yang dipakai\n",
        "import tensorflow as tf  # Untuk library jaringan saraf tiruan"
      ],
      "execution_count": 1,
      "outputs": []
    },
    {
      "cell_type": "code",
      "metadata": {
        "id": "4te1QEgV-e6L",
        "colab": {
          "base_uri": "https://localhost:8080/"
        },
        "outputId": "75344f2a-7e97-485e-f27a-c656f5248e60"
      },
      "source": [
        "# Menyiapkan dataset yang di pakai\n",
        "!wget --no-check-certificate \\\n",
        "  https://dicodingacademy.blob.core.windows.net/picodiploma/ml_pemula_academy/rockpaperscissors.zip \\\n",
        "  -O /tmp/rockpaperscissors.zip"
      ],
      "execution_count": 2,
      "outputs": [
        {
          "output_type": "stream",
          "text": [
            "--2021-07-21 17:48:14--  https://dicodingacademy.blob.core.windows.net/picodiploma/ml_pemula_academy/rockpaperscissors.zip\n",
            "Resolving dicodingacademy.blob.core.windows.net (dicodingacademy.blob.core.windows.net)... 52.239.197.36\n",
            "Connecting to dicodingacademy.blob.core.windows.net (dicodingacademy.blob.core.windows.net)|52.239.197.36|:443... connected.\n",
            "HTTP request sent, awaiting response... 200 OK\n",
            "Length: 322873683 (308M) [application/zip]\n",
            "Saving to: ‘/tmp/rockpaperscissors.zip’\n",
            "\n",
            "/tmp/rockpapersciss 100%[===================>] 307.92M  3.46MB/s    in 61s     \n",
            "\n",
            "2021-07-21 17:49:16 (5.03 MB/s) - ‘/tmp/rockpaperscissors.zip’ saved [322873683/322873683]\n",
            "\n"
          ],
          "name": "stdout"
        }
      ]
    },
    {
      "cell_type": "code",
      "metadata": {
        "id": "r2JWYwzf_osF"
      },
      "source": [
        "# Melakukan ekstrak file ZIP\n",
        "import zipfile, os\n",
        "\n",
        "local_zip = '/tmp/rockpaperscissors.zip'\n",
        "zip_ref = zipfile.ZipFile(local_zip, 'r')\n",
        "zip_ref.extractall('/tmp')\n",
        "zip_ref.close()"
      ],
      "execution_count": 3,
      "outputs": []
    },
    {
      "cell_type": "code",
      "metadata": {
        "id": "HFaOELrrAFe8"
      },
      "source": [
        "# Mengatur dan membuat nama direktori untuk train dan data validation\n",
        "base_dir = '/tmp/rockpaperscissors'\n",
        "latih_dir = os.path.join(base_dir,'latih')\n",
        "validasi_dir = os.path.join(base_dir,'validasi')\n",
        "\n",
        "if not os.path.exists(latih_dir):\n",
        "  os.mkdir(latih_dir)\n",
        "if not os.path.exists(validasi_dir):\n",
        "  os.mkdir(validasi_dir)"
      ],
      "execution_count": 4,
      "outputs": []
    },
    {
      "cell_type": "code",
      "metadata": {
        "id": "GylfvknFPqV0"
      },
      "source": [
        "# Menentukan path untuk paper, rock, dan scissors\n",
        "paper_dir = os.path.join(base_dir,'paper')\n",
        "rock_dir = os.path.join(base_dir,'rock')\n",
        "scissors_dir = os.path.join(base_dir,'scissors')"
      ],
      "execution_count": 5,
      "outputs": []
    },
    {
      "cell_type": "code",
      "metadata": {
        "id": "5D78nbANUFTK"
      },
      "source": [
        "# paper, rock, dan scissors dipisah menjadi data latih dan data validasi dengan validasi 40%\n",
        "from sklearn.model_selection import train_test_split\n",
        "\n",
        "latih_paper_dir, validasi_paper_dir = train_test_split(os.listdir(paper_dir), test_size=0.4)\n",
        "latih_rock_dir, validasi_rock_dir = train_test_split(os.listdir(rock_dir), test_size=0.4)\n",
        "latih_scissors_dir, validasi_scissors_dir = train_test_split(os.listdir(scissors_dir), test_size=0.4)"
      ],
      "execution_count": 6,
      "outputs": []
    },
    {
      "cell_type": "code",
      "metadata": {
        "id": "Ut6S2OeDUwF5"
      },
      "source": [
        "# Menentukan path untuk paper, rock, dan scissors yang sudah dipisah serta membuat direktori baru\n",
        "latih_paper = os.path.join(latih_dir, 'paper')\n",
        "latih_rock = os.path.join(latih_dir, 'rock')\n",
        "latih_scissors = os.path.join(latih_dir, 'scissors')\n",
        "validasi_paper = os.path.join(validasi_dir, 'paper')\n",
        "validasi_rock = os.path.join(validasi_dir, 'rock')\n",
        "validasi_scissors = os.path.join(validasi_dir, 'scissors')\n",
        "\n",
        "if not os.path.exists(latih_paper):\n",
        "  os.mkdir(latih_paper)\n",
        "if not os.path.exists(latih_rock):\n",
        "  os.mkdir(latih_rock)\n",
        "if not os.path.exists(latih_scissors):\n",
        "  os.mkdir(latih_scissors)\n",
        "if not os.path.exists(validasi_paper):\n",
        "  os.mkdir(validasi_paper)\n",
        "if not os.path.exists(validasi_rock):\n",
        "  os.mkdir(validasi_rock)\n",
        "if not os.path.exists(validasi_scissors):\n",
        "  os.mkdir(validasi_scissors)"
      ],
      "execution_count": 7,
      "outputs": []
    },
    {
      "cell_type": "code",
      "metadata": {
        "id": "b7yHWZPsHOX_"
      },
      "source": [
        "# Menyalin data menggunakan copy dari shutil\n",
        "import shutil\n",
        "\n",
        "for i in latih_paper_dir:\n",
        "  shutil.copy(os.path.join(paper_dir, i), os.path.join(latih_paper, i))\n",
        "for i in latih_rock_dir:\n",
        "  shutil.copy(os.path.join(rock_dir, i), os.path.join(latih_rock, i))\n",
        "for i in latih_scissors_dir:\n",
        "  shutil.copy(os.path.join(scissors_dir, i), os.path.join(latih_scissors, i))\n",
        "for i in validasi_paper_dir:\n",
        "  shutil.copy(os.path.join(paper_dir, i), os.path.join(validasi_paper, i))\n",
        "for i in validasi_rock_dir:\n",
        "  shutil.copy(os.path.join(rock_dir, i), os.path.join(validasi_rock, i))\n",
        "for i in validasi_scissors_dir:\n",
        "  shutil.copy(os.path.join(scissors_dir, i), os.path.join(validasi_scissors, i))"
      ],
      "execution_count": 8,
      "outputs": []
    },
    {
      "cell_type": "code",
      "metadata": {
        "id": "AFFvMex4XPGm",
        "colab": {
          "base_uri": "https://localhost:8080/"
        },
        "outputId": "b750fabb-6caa-412e-881a-f4e95c040448"
      },
      "source": [
        "# Melihat struktur data train/latih yang telah dibuat\n",
        "os.listdir('/tmp/rockpaperscissors/latih')"
      ],
      "execution_count": 9,
      "outputs": [
        {
          "output_type": "execute_result",
          "data": {
            "text/plain": [
              "['scissors', 'paper', 'rock']"
            ]
          },
          "metadata": {
            "tags": []
          },
          "execution_count": 9
        }
      ]
    },
    {
      "cell_type": "code",
      "metadata": {
        "id": "n06Cnd16XPtN",
        "colab": {
          "base_uri": "https://localhost:8080/"
        },
        "outputId": "49689904-a985-4087-ea5d-02a872eb1640"
      },
      "source": [
        "# Melihat struktur data validation/validasi yang telah dibuat\n",
        "os.listdir('/tmp/rockpaperscissors/validasi')"
      ],
      "execution_count": 10,
      "outputs": [
        {
          "output_type": "execute_result",
          "data": {
            "text/plain": [
              "['scissors', 'paper', 'rock']"
            ]
          },
          "metadata": {
            "tags": []
          },
          "execution_count": 10
        }
      ]
    },
    {
      "cell_type": "code",
      "metadata": {
        "id": "2SpkP3C3XPrF",
        "colab": {
          "base_uri": "https://localhost:8080/"
        },
        "outputId": "b6ad885e-5c1d-4ab7-d793-bc9155ff5bdd"
      },
      "source": [
        "# Menghitung jumlah data training dan validasi\n",
        "train_p = len(os.listdir('/tmp/rockpaperscissors/latih/paper'))\n",
        "train_r = len(os.listdir('/tmp/rockpaperscissors/latih/rock'))\n",
        "train_s = len(os.listdir('/tmp/rockpaperscissors/latih/scissors'))\n",
        "val_p = len(os.listdir('/tmp/rockpaperscissors/validasi/paper'))\n",
        "val_r = len(os.listdir('/tmp/rockpaperscissors/validasi/rock'))\n",
        "val_s = len(os.listdir('/tmp/rockpaperscissors/validasi/scissors'))\n",
        "print('Data training : {} sampel'.format(train_p + train_r + train_s))\n",
        "print('Data validasi : {} sampel'.format(val_p + val_r + val_s))"
      ],
      "execution_count": 11,
      "outputs": [
        {
          "output_type": "stream",
          "text": [
            "Data training : 1312 sampel\n",
            "Data validasi : 876 sampel\n"
          ],
          "name": "stdout"
        }
      ]
    },
    {
      "cell_type": "code",
      "metadata": {
        "id": "H0K5ah7agUEr"
      },
      "source": [
        "# Proses augmentasi gambar dengan image data generator\n",
        "from tensorflow.keras.preprocessing.image import ImageDataGenerator\n",
        "\n",
        "train_datagen = ImageDataGenerator(\n",
        "                    rescale=1./255,\n",
        "                    rotation_range=20,\n",
        "                    horizontal_flip=True,\n",
        "                    shear_range = 0.2,\n",
        "                    fill_mode = 'nearest')\n",
        " \n",
        "test_datagen = ImageDataGenerator(\n",
        "                    rescale=1./255,\n",
        "                    rotation_range=20,\n",
        "                    horizontal_flip=True,\n",
        "                    shear_range = 0.2,\n",
        "                    fill_mode = 'nearest')"
      ],
      "execution_count": 12,
      "outputs": []
    },
    {
      "cell_type": "code",
      "metadata": {
        "id": "rKgCwg_eku2F",
        "colab": {
          "base_uri": "https://localhost:8080/"
        },
        "outputId": "58059108-36e6-4f3d-d1b7-58b7e88fbb24"
      },
      "source": [
        "# Menyiapkan data latih yang dipelajari model, class_mode memakai categorical karena kelas lebih dari 2\n",
        "train_generator = train_datagen.flow_from_directory(\n",
        "        latih_dir,\n",
        "        target_size=(150, 150),\n",
        "        batch_size=32,\n",
        "        class_mode='categorical')\n",
        " \n",
        "validation_generator = test_datagen.flow_from_directory(\n",
        "        validasi_dir,\n",
        "        target_size=(150, 150),\n",
        "        batch_size=32,\n",
        "        class_mode='categorical')"
      ],
      "execution_count": 13,
      "outputs": [
        {
          "output_type": "stream",
          "text": [
            "Found 1312 images belonging to 3 classes.\n",
            "Found 876 images belonging to 3 classes.\n"
          ],
          "name": "stdout"
        }
      ]
    },
    {
      "cell_type": "code",
      "metadata": {
        "id": "atIeqgffkvni"
      },
      "source": [
        "# Membangun arsitektur sebuah CNN\n",
        "model = tf.keras.models.Sequential([\n",
        "    tf.keras.layers.Conv2D(32, (3,3), activation='relu', input_shape=(150, 150, 3)),\n",
        "    tf.keras.layers.MaxPooling2D(2, 2),\n",
        "    tf.keras.layers.Conv2D(64, (3,3), activation='relu'),\n",
        "    tf.keras.layers.MaxPooling2D(2,2),\n",
        "    tf.keras.layers.Conv2D(128, (3,3), activation='relu'),\n",
        "    tf.keras.layers.MaxPooling2D(2,2),\n",
        "    tf.keras.layers.Conv2D(256, (3,3), activation='relu'),\n",
        "    tf.keras.layers.MaxPooling2D(2,2),\n",
        "    tf.keras.layers.Flatten(),\n",
        "    tf.keras.layers.Dropout(0.5),\n",
        "    tf.keras.layers.Dense(512, activation='relu'),\n",
        "    tf.keras.layers.Dense(3, activation='softmax')\n",
        "])"
      ],
      "execution_count": 14,
      "outputs": []
    },
    {
      "cell_type": "code",
      "metadata": {
        "id": "cXh-xtbsKAnH"
      },
      "source": [
        "class Callback(tf.keras.callbacks.Callback): \n",
        "    def on_epoch_end(self, epoch, logs={}): \n",
        "        if(logs.get('accuracy') > 0.96 and logs.get('val_accuracy') > 0.96):\n",
        "            print(\"\\nReached 96% accuracy\") \n",
        "            self.model.stop_training = True \n",
        " \n",
        "callbacks = Callback()"
      ],
      "execution_count": 15,
      "outputs": []
    },
    {
      "cell_type": "code",
      "metadata": {
        "id": "bJ82tuGdornC"
      },
      "source": [
        "# Compile model dengan loss function 'categorical_crossentropy' dan optimizer 'adam'\n",
        "model.compile(loss='categorical_crossentropy',\n",
        "              optimizer=tf.optimizers.Adam(learning_rate=0.0001),\n",
        "              metrics=['accuracy'])"
      ],
      "execution_count": 16,
      "outputs": []
    },
    {
      "cell_type": "code",
      "metadata": {
        "id": "UdUO-Z8jorWo",
        "colab": {
          "base_uri": "https://localhost:8080/"
        },
        "outputId": "98f8c794-dd96-43fe-c531-f6c6ca279598"
      },
      "source": [
        "# Melatih model dengan model.fit \n",
        "model.fit(\n",
        "      train_generator,\n",
        "      steps_per_epoch=25,\n",
        "      epochs=20,\n",
        "      validation_data=validation_generator,\n",
        "      validation_steps=5,\n",
        "      verbose=2,\n",
        "      callbacks=[callbacks])"
      ],
      "execution_count": 17,
      "outputs": [
        {
          "output_type": "stream",
          "text": [
            "Epoch 1/20\n",
            "25/25 - 38s - loss: 1.0691 - accuracy: 0.4225 - val_loss: 1.0194 - val_accuracy: 0.5750\n",
            "Epoch 2/20\n",
            "25/25 - 7s - loss: 0.8788 - accuracy: 0.6862 - val_loss: 0.7116 - val_accuracy: 0.7375\n",
            "Epoch 3/20\n",
            "25/25 - 7s - loss: 0.6299 - accuracy: 0.7725 - val_loss: 0.5722 - val_accuracy: 0.8000\n",
            "Epoch 4/20\n",
            "25/25 - 7s - loss: 0.5656 - accuracy: 0.7800 - val_loss: 0.4608 - val_accuracy: 0.8500\n",
            "Epoch 5/20\n",
            "25/25 - 6s - loss: 0.4103 - accuracy: 0.8525 - val_loss: 0.3337 - val_accuracy: 0.8938\n",
            "Epoch 6/20\n",
            "25/25 - 6s - loss: 0.3194 - accuracy: 0.8950 - val_loss: 0.4333 - val_accuracy: 0.8375\n",
            "Epoch 7/20\n",
            "25/25 - 6s - loss: 0.2778 - accuracy: 0.9150 - val_loss: 0.2355 - val_accuracy: 0.9250\n",
            "Epoch 8/20\n",
            "25/25 - 6s - loss: 0.2602 - accuracy: 0.9175 - val_loss: 0.2439 - val_accuracy: 0.9312\n",
            "Epoch 9/20\n",
            "25/25 - 7s - loss: 0.2363 - accuracy: 0.9275 - val_loss: 0.1736 - val_accuracy: 0.9563\n",
            "Epoch 10/20\n",
            "25/25 - 7s - loss: 0.1837 - accuracy: 0.9550 - val_loss: 0.1926 - val_accuracy: 0.9438\n",
            "Epoch 11/20\n",
            "25/25 - 7s - loss: 0.1664 - accuracy: 0.9488 - val_loss: 0.0840 - val_accuracy: 0.9875\n",
            "Epoch 12/20\n",
            "25/25 - 6s - loss: 0.1544 - accuracy: 0.9513 - val_loss: 0.1760 - val_accuracy: 0.9563\n",
            "Epoch 13/20\n",
            "25/25 - 6s - loss: 0.1931 - accuracy: 0.9337 - val_loss: 0.1330 - val_accuracy: 0.9563\n",
            "Epoch 14/20\n",
            "25/25 - 6s - loss: 0.1574 - accuracy: 0.9550 - val_loss: 0.1794 - val_accuracy: 0.9563\n",
            "Epoch 15/20\n",
            "25/25 - 6s - loss: 0.1081 - accuracy: 0.9650 - val_loss: 0.1187 - val_accuracy: 0.9500\n",
            "Epoch 16/20\n",
            "25/25 - 6s - loss: 0.1226 - accuracy: 0.9588 - val_loss: 0.1669 - val_accuracy: 0.9563\n",
            "Epoch 17/20\n",
            "25/25 - 7s - loss: 0.1244 - accuracy: 0.9563 - val_loss: 0.1124 - val_accuracy: 0.9625\n",
            "Epoch 18/20\n",
            "25/25 - 7s - loss: 0.1084 - accuracy: 0.9638 - val_loss: 0.0982 - val_accuracy: 0.9500\n",
            "Epoch 19/20\n",
            "25/25 - 7s - loss: 0.0755 - accuracy: 0.9812 - val_loss: 0.1411 - val_accuracy: 0.9500\n",
            "Epoch 20/20\n",
            "25/25 - 7s - loss: 0.0656 - accuracy: 0.9812 - val_loss: 0.0798 - val_accuracy: 0.9688\n",
            "\n",
            "Reached 96% accuracy\n"
          ],
          "name": "stdout"
        },
        {
          "output_type": "execute_result",
          "data": {
            "text/plain": [
              "<tensorflow.python.keras.callbacks.History at 0x7f09e342c910>"
            ]
          },
          "metadata": {
            "tags": []
          },
          "execution_count": 17
        }
      ]
    },
    {
      "cell_type": "code",
      "metadata": {
        "id": "G4C2NnS_oqu1",
        "colab": {
          "resources": {
            "http://localhost:8080/nbextensions/google.colab/files.js": {
              "data": "Ly8gQ29weXJpZ2h0IDIwMTcgR29vZ2xlIExMQwovLwovLyBMaWNlbnNlZCB1bmRlciB0aGUgQXBhY2hlIExpY2Vuc2UsIFZlcnNpb24gMi4wICh0aGUgIkxpY2Vuc2UiKTsKLy8geW91IG1heSBub3QgdXNlIHRoaXMgZmlsZSBleGNlcHQgaW4gY29tcGxpYW5jZSB3aXRoIHRoZSBMaWNlbnNlLgovLyBZb3UgbWF5IG9idGFpbiBhIGNvcHkgb2YgdGhlIExpY2Vuc2UgYXQKLy8KLy8gICAgICBodHRwOi8vd3d3LmFwYWNoZS5vcmcvbGljZW5zZXMvTElDRU5TRS0yLjAKLy8KLy8gVW5sZXNzIHJlcXVpcmVkIGJ5IGFwcGxpY2FibGUgbGF3IG9yIGFncmVlZCB0byBpbiB3cml0aW5nLCBzb2Z0d2FyZQovLyBkaXN0cmlidXRlZCB1bmRlciB0aGUgTGljZW5zZSBpcyBkaXN0cmlidXRlZCBvbiBhbiAiQVMgSVMiIEJBU0lTLAovLyBXSVRIT1VUIFdBUlJBTlRJRVMgT1IgQ09ORElUSU9OUyBPRiBBTlkgS0lORCwgZWl0aGVyIGV4cHJlc3Mgb3IgaW1wbGllZC4KLy8gU2VlIHRoZSBMaWNlbnNlIGZvciB0aGUgc3BlY2lmaWMgbGFuZ3VhZ2UgZ292ZXJuaW5nIHBlcm1pc3Npb25zIGFuZAovLyBsaW1pdGF0aW9ucyB1bmRlciB0aGUgTGljZW5zZS4KCi8qKgogKiBAZmlsZW92ZXJ2aWV3IEhlbHBlcnMgZm9yIGdvb2dsZS5jb2xhYiBQeXRob24gbW9kdWxlLgogKi8KKGZ1bmN0aW9uKHNjb3BlKSB7CmZ1bmN0aW9uIHNwYW4odGV4dCwgc3R5bGVBdHRyaWJ1dGVzID0ge30pIHsKICBjb25zdCBlbGVtZW50ID0gZG9jdW1lbnQuY3JlYXRlRWxlbWVudCgnc3BhbicpOwogIGVsZW1lbnQudGV4dENvbnRlbnQgPSB0ZXh0OwogIGZvciAoY29uc3Qga2V5IG9mIE9iamVjdC5rZXlzKHN0eWxlQXR0cmlidXRlcykpIHsKICAgIGVsZW1lbnQuc3R5bGVba2V5XSA9IHN0eWxlQXR0cmlidXRlc1trZXldOwogIH0KICByZXR1cm4gZWxlbWVudDsKfQoKLy8gTWF4IG51bWJlciBvZiBieXRlcyB3aGljaCB3aWxsIGJlIHVwbG9hZGVkIGF0IGEgdGltZS4KY29uc3QgTUFYX1BBWUxPQURfU0laRSA9IDEwMCAqIDEwMjQ7CgpmdW5jdGlvbiBfdXBsb2FkRmlsZXMoaW5wdXRJZCwgb3V0cHV0SWQpIHsKICBjb25zdCBzdGVwcyA9IHVwbG9hZEZpbGVzU3RlcChpbnB1dElkLCBvdXRwdXRJZCk7CiAgY29uc3Qgb3V0cHV0RWxlbWVudCA9IGRvY3VtZW50LmdldEVsZW1lbnRCeUlkKG91dHB1dElkKTsKICAvLyBDYWNoZSBzdGVwcyBvbiB0aGUgb3V0cHV0RWxlbWVudCB0byBtYWtlIGl0IGF2YWlsYWJsZSBmb3IgdGhlIG5leHQgY2FsbAogIC8vIHRvIHVwbG9hZEZpbGVzQ29udGludWUgZnJvbSBQeXRob24uCiAgb3V0cHV0RWxlbWVudC5zdGVwcyA9IHN0ZXBzOwoKICByZXR1cm4gX3VwbG9hZEZpbGVzQ29udGludWUob3V0cHV0SWQpOwp9CgovLyBUaGlzIGlzIHJvdWdobHkgYW4gYXN5bmMgZ2VuZXJhdG9yIChub3Qgc3VwcG9ydGVkIGluIHRoZSBicm93c2VyIHlldCksCi8vIHdoZXJlIHRoZXJlIGFyZSBtdWx0aXBsZSBhc3luY2hyb25vdXMgc3RlcHMgYW5kIHRoZSBQeXRob24gc2lkZSBpcyBnb2luZwovLyB0byBwb2xsIGZvciBjb21wbGV0aW9uIG9mIGVhY2ggc3RlcC4KLy8gVGhpcyB1c2VzIGEgUHJvbWlzZSB0byBibG9jayB0aGUgcHl0aG9uIHNpZGUgb24gY29tcGxldGlvbiBvZiBlYWNoIHN0ZXAsCi8vIHRoZW4gcGFzc2VzIHRoZSByZXN1bHQgb2YgdGhlIHByZXZpb3VzIHN0ZXAgYXMgdGhlIGlucHV0IHRvIHRoZSBuZXh0IHN0ZXAuCmZ1bmN0aW9uIF91cGxvYWRGaWxlc0NvbnRpbnVlKG91dHB1dElkKSB7CiAgY29uc3Qgb3V0cHV0RWxlbWVudCA9IGRvY3VtZW50LmdldEVsZW1lbnRCeUlkKG91dHB1dElkKTsKICBjb25zdCBzdGVwcyA9IG91dHB1dEVsZW1lbnQuc3RlcHM7CgogIGNvbnN0IG5leHQgPSBzdGVwcy5uZXh0KG91dHB1dEVsZW1lbnQubGFzdFByb21pc2VWYWx1ZSk7CiAgcmV0dXJuIFByb21pc2UucmVzb2x2ZShuZXh0LnZhbHVlLnByb21pc2UpLnRoZW4oKHZhbHVlKSA9PiB7CiAgICAvLyBDYWNoZSB0aGUgbGFzdCBwcm9taXNlIHZhbHVlIHRvIG1ha2UgaXQgYXZhaWxhYmxlIHRvIHRoZSBuZXh0CiAgICAvLyBzdGVwIG9mIHRoZSBnZW5lcmF0b3IuCiAgICBvdXRwdXRFbGVtZW50Lmxhc3RQcm9taXNlVmFsdWUgPSB2YWx1ZTsKICAgIHJldHVybiBuZXh0LnZhbHVlLnJlc3BvbnNlOwogIH0pOwp9CgovKioKICogR2VuZXJhdG9yIGZ1bmN0aW9uIHdoaWNoIGlzIGNhbGxlZCBiZXR3ZWVuIGVhY2ggYXN5bmMgc3RlcCBvZiB0aGUgdXBsb2FkCiAqIHByb2Nlc3MuCiAqIEBwYXJhbSB7c3RyaW5nfSBpbnB1dElkIEVsZW1lbnQgSUQgb2YgdGhlIGlucHV0IGZpbGUgcGlja2VyIGVsZW1lbnQuCiAqIEBwYXJhbSB7c3RyaW5nfSBvdXRwdXRJZCBFbGVtZW50IElEIG9mIHRoZSBvdXRwdXQgZGlzcGxheS4KICogQHJldHVybiB7IUl0ZXJhYmxlPCFPYmplY3Q+fSBJdGVyYWJsZSBvZiBuZXh0IHN0ZXBzLgogKi8KZnVuY3Rpb24qIHVwbG9hZEZpbGVzU3RlcChpbnB1dElkLCBvdXRwdXRJZCkgewogIGNvbnN0IGlucHV0RWxlbWVudCA9IGRvY3VtZW50LmdldEVsZW1lbnRCeUlkKGlucHV0SWQpOwogIGlucHV0RWxlbWVudC5kaXNhYmxlZCA9IGZhbHNlOwoKICBjb25zdCBvdXRwdXRFbGVtZW50ID0gZG9jdW1lbnQuZ2V0RWxlbWVudEJ5SWQob3V0cHV0SWQpOwogIG91dHB1dEVsZW1lbnQuaW5uZXJIVE1MID0gJyc7CgogIGNvbnN0IHBpY2tlZFByb21pc2UgPSBuZXcgUHJvbWlzZSgocmVzb2x2ZSkgPT4gewogICAgaW5wdXRFbGVtZW50LmFkZEV2ZW50TGlzdGVuZXIoJ2NoYW5nZScsIChlKSA9PiB7CiAgICAgIHJlc29sdmUoZS50YXJnZXQuZmlsZXMpOwogICAgfSk7CiAgfSk7CgogIGNvbnN0IGNhbmNlbCA9IGRvY3VtZW50LmNyZWF0ZUVsZW1lbnQoJ2J1dHRvbicpOwogIGlucHV0RWxlbWVudC5wYXJlbnRFbGVtZW50LmFwcGVuZENoaWxkKGNhbmNlbCk7CiAgY2FuY2VsLnRleHRDb250ZW50ID0gJ0NhbmNlbCB1cGxvYWQnOwogIGNvbnN0IGNhbmNlbFByb21pc2UgPSBuZXcgUHJvbWlzZSgocmVzb2x2ZSkgPT4gewogICAgY2FuY2VsLm9uY2xpY2sgPSAoKSA9PiB7CiAgICAgIHJlc29sdmUobnVsbCk7CiAgICB9OwogIH0pOwoKICAvLyBXYWl0IGZvciB0aGUgdXNlciB0byBwaWNrIHRoZSBmaWxlcy4KICBjb25zdCBmaWxlcyA9IHlpZWxkIHsKICAgIHByb21pc2U6IFByb21pc2UucmFjZShbcGlja2VkUHJvbWlzZSwgY2FuY2VsUHJvbWlzZV0pLAogICAgcmVzcG9uc2U6IHsKICAgICAgYWN0aW9uOiAnc3RhcnRpbmcnLAogICAgfQogIH07CgogIGNhbmNlbC5yZW1vdmUoKTsKCiAgLy8gRGlzYWJsZSB0aGUgaW5wdXQgZWxlbWVudCBzaW5jZSBmdXJ0aGVyIHBpY2tzIGFyZSBub3QgYWxsb3dlZC4KICBpbnB1dEVsZW1lbnQuZGlzYWJsZWQgPSB0cnVlOwoKICBpZiAoIWZpbGVzKSB7CiAgICByZXR1cm4gewogICAgICByZXNwb25zZTogewogICAgICAgIGFjdGlvbjogJ2NvbXBsZXRlJywKICAgICAgfQogICAgfTsKICB9CgogIGZvciAoY29uc3QgZmlsZSBvZiBmaWxlcykgewogICAgY29uc3QgbGkgPSBkb2N1bWVudC5jcmVhdGVFbGVtZW50KCdsaScpOwogICAgbGkuYXBwZW5kKHNwYW4oZmlsZS5uYW1lLCB7Zm9udFdlaWdodDogJ2JvbGQnfSkpOwogICAgbGkuYXBwZW5kKHNwYW4oCiAgICAgICAgYCgke2ZpbGUudHlwZSB8fCAnbi9hJ30pIC0gJHtmaWxlLnNpemV9IGJ5dGVzLCBgICsKICAgICAgICBgbGFzdCBtb2RpZmllZDogJHsKICAgICAgICAgICAgZmlsZS5sYXN0TW9kaWZpZWREYXRlID8gZmlsZS5sYXN0TW9kaWZpZWREYXRlLnRvTG9jYWxlRGF0ZVN0cmluZygpIDoKICAgICAgICAgICAgICAgICAgICAgICAgICAgICAgICAgICAgJ24vYSd9IC0gYCkpOwogICAgY29uc3QgcGVyY2VudCA9IHNwYW4oJzAlIGRvbmUnKTsKICAgIGxpLmFwcGVuZENoaWxkKHBlcmNlbnQpOwoKICAgIG91dHB1dEVsZW1lbnQuYXBwZW5kQ2hpbGQobGkpOwoKICAgIGNvbnN0IGZpbGVEYXRhUHJvbWlzZSA9IG5ldyBQcm9taXNlKChyZXNvbHZlKSA9PiB7CiAgICAgIGNvbnN0IHJlYWRlciA9IG5ldyBGaWxlUmVhZGVyKCk7CiAgICAgIHJlYWRlci5vbmxvYWQgPSAoZSkgPT4gewogICAgICAgIHJlc29sdmUoZS50YXJnZXQucmVzdWx0KTsKICAgICAgfTsKICAgICAgcmVhZGVyLnJlYWRBc0FycmF5QnVmZmVyKGZpbGUpOwogICAgfSk7CiAgICAvLyBXYWl0IGZvciB0aGUgZGF0YSB0byBiZSByZWFkeS4KICAgIGxldCBmaWxlRGF0YSA9IHlpZWxkIHsKICAgICAgcHJvbWlzZTogZmlsZURhdGFQcm9taXNlLAogICAgICByZXNwb25zZTogewogICAgICAgIGFjdGlvbjogJ2NvbnRpbnVlJywKICAgICAgfQogICAgfTsKCiAgICAvLyBVc2UgYSBjaHVua2VkIHNlbmRpbmcgdG8gYXZvaWQgbWVzc2FnZSBzaXplIGxpbWl0cy4gU2VlIGIvNjIxMTU2NjAuCiAgICBsZXQgcG9zaXRpb24gPSAwOwogICAgZG8gewogICAgICBjb25zdCBsZW5ndGggPSBNYXRoLm1pbihmaWxlRGF0YS5ieXRlTGVuZ3RoIC0gcG9zaXRpb24sIE1BWF9QQVlMT0FEX1NJWkUpOwogICAgICBjb25zdCBjaHVuayA9IG5ldyBVaW50OEFycmF5KGZpbGVEYXRhLCBwb3NpdGlvbiwgbGVuZ3RoKTsKICAgICAgcG9zaXRpb24gKz0gbGVuZ3RoOwoKICAgICAgY29uc3QgYmFzZTY0ID0gYnRvYShTdHJpbmcuZnJvbUNoYXJDb2RlLmFwcGx5KG51bGwsIGNodW5rKSk7CiAgICAgIHlpZWxkIHsKICAgICAgICByZXNwb25zZTogewogICAgICAgICAgYWN0aW9uOiAnYXBwZW5kJywKICAgICAgICAgIGZpbGU6IGZpbGUubmFtZSwKICAgICAgICAgIGRhdGE6IGJhc2U2NCwKICAgICAgICB9LAogICAgICB9OwoKICAgICAgbGV0IHBlcmNlbnREb25lID0gZmlsZURhdGEuYnl0ZUxlbmd0aCA9PT0gMCA/CiAgICAgICAgICAxMDAgOgogICAgICAgICAgTWF0aC5yb3VuZCgocG9zaXRpb24gLyBmaWxlRGF0YS5ieXRlTGVuZ3RoKSAqIDEwMCk7CiAgICAgIHBlcmNlbnQudGV4dENvbnRlbnQgPSBgJHtwZXJjZW50RG9uZX0lIGRvbmVgOwoKICAgIH0gd2hpbGUgKHBvc2l0aW9uIDwgZmlsZURhdGEuYnl0ZUxlbmd0aCk7CiAgfQoKICAvLyBBbGwgZG9uZS4KICB5aWVsZCB7CiAgICByZXNwb25zZTogewogICAgICBhY3Rpb246ICdjb21wbGV0ZScsCiAgICB9CiAgfTsKfQoKc2NvcGUuZ29vZ2xlID0gc2NvcGUuZ29vZ2xlIHx8IHt9OwpzY29wZS5nb29nbGUuY29sYWIgPSBzY29wZS5nb29nbGUuY29sYWIgfHwge307CnNjb3BlLmdvb2dsZS5jb2xhYi5fZmlsZXMgPSB7CiAgX3VwbG9hZEZpbGVzLAogIF91cGxvYWRGaWxlc0NvbnRpbnVlLAp9Owp9KShzZWxmKTsK",
              "ok": true,
              "headers": [
                [
                  "content-type",
                  "application/javascript"
                ]
              ],
              "status": 200,
              "status_text": ""
            }
          },
          "base_uri": "https://localhost:8080/",
          "height": 358
        },
        "outputId": "fa33057f-8e09-43a6-865a-20329a2dd252"
      },
      "source": [
        "import numpy as np\n",
        "from google.colab import files\n",
        "from keras.preprocessing import image\n",
        "import matplotlib.pyplot as plt\n",
        "import matplotlib.image as mpimg\n",
        "%matplotlib inline\n",
        "\n",
        "uploaded = files.upload()\n",
        "\n",
        "for fn in uploaded.keys():\n",
        "\n",
        "  # Prediksi image\n",
        "  path = fn \n",
        "  img = image.load_img(path, target_size =(150,150))\n",
        "  imgplot = plt.imshow(img)\n",
        "  x = image.img_to_array(img)\n",
        "  x = np.expand_dims(x, axis=0)\n",
        "\n",
        "  images = np.vstack([x])\n",
        "  classes = model.predict(images, batch_size=10)\n",
        "\n",
        "  print(fn)\n",
        "  if classes[0][0]==1:\n",
        "    print('Kertas')\n",
        "  elif classes[0][1]==1:\n",
        "    print('Batu')\n",
        "  elif classes[0][2]==1:\n",
        "    print('Gunting')\n",
        "  else:\n",
        "    print('Tidak Pasti')"
      ],
      "execution_count": 18,
      "outputs": [
        {
          "output_type": "display_data",
          "data": {
            "text/html": [
              "\n",
              "     <input type=\"file\" id=\"files-6677393e-1b39-4588-8604-246f6e5c08d3\" name=\"files[]\" multiple disabled\n",
              "        style=\"border:none\" />\n",
              "     <output id=\"result-6677393e-1b39-4588-8604-246f6e5c08d3\">\n",
              "      Upload widget is only available when the cell has been executed in the\n",
              "      current browser session. Please rerun this cell to enable.\n",
              "      </output>\n",
              "      <script src=\"/nbextensions/google.colab/files.js\"></script> "
            ],
            "text/plain": [
              "<IPython.core.display.HTML object>"
            ]
          },
          "metadata": {
            "tags": []
          }
        },
        {
          "output_type": "stream",
          "text": [
            "Saving 170275.jpg to 170275.jpg\n",
            "170275.jpg\n",
            "Batu\n"
          ],
          "name": "stdout"
        },
        {
          "output_type": "display_data",
          "data": {
            "image/png": "[encoded data removed]",
            "text/plain": [
              "<Figure size 432x288 with 1 Axes>"
            ]
          },
          "metadata": {
            "tags": [],
            "needs_background": "light"
          }
        }
      ]
    }
  ]
}